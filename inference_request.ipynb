{
 "cells": [
  {
   "cell_type": "code",
   "execution_count": null,
   "metadata": {},
   "outputs": [],
   "source": [
    "from sagemaker.predictor import Predictor\n",
    "from PIL import Image\n",
    "import numpy as np\n",
    "import json\n",
    "import os\n",
    "import random\n",
    "\n",
    "endpoint = 'insert the name of your endpoint here'\n",
    "\n",
    "img_test_files = os.listdir('data/test/')\n",
    "index = random.randrange(len(img_test_files))\n",
    "input_file = img_test_files[index]\n",
    "\n",
    "# Read image into memory\n",
    "image = Image.open(input_file)\n",
    "batch_size = 1\n",
    "image = np.asarray(image)\n",
    "image = image / 255\n",
    "image = image.reshape(batch_size,image.shape[0],image.shape[1])\n",
    "body = json.dumps({\"instances\": image.tolist()})\n",
    "    \n",
    "predictor = Predictor(endpoint)\n",
    "inference_response = predictor.predict(data=body)\n",
    "print(inference_response)"
   ]
  }
 ],
 "metadata": {
  "language_info": {
   "codemirror_mode": {
    "name": "ipython",
    "version": 3
   },
   "file_extension": ".py",
   "mimetype": "text/x-python",
   "name": "python",
   "nbconvert_exporter": "python",
   "pygments_lexer": "ipython3",
   "version": 3
  },
  "orig_nbformat": 2
 },
 "nbformat": 4,
 "nbformat_minor": 2
}