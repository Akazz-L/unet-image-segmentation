{
 "cells": [
  {
   "cell_type": "code",
   "execution_count": 6,
   "metadata": {},
   "outputs": [
    {
     "name": "stdout",
     "output_type": "stream",
     "text": [
      "docker login -u AWS -p eyJwYXlsb2FkIjoiY3o2b2NkMmVwcHR3YVJrWmJjWit5SkFmOHoyQ3ZzbjM1ekFuNXdpNjcyMTkwaDNPdDF4dFRiRUg1Yzg4QVRxeW9hRDd2Wmk0ek5QamNnamxCeDhoTUtjR1pacGhSbkpXZVVka0lBbGxFUDA0dStZT3grV0Z5QURUUzl0ODAxWEFpbytuNmVSaXlQOVF6eGgyV2NzZnVBNkx4aHJKb2xaKzVnR3JWNzI4Q2YxTzc4QXNyZEc1UHQ0empVWHJoaGZTMVJhRWRmckRrTVpEOHN2bHVOQ1FKSGNjeUlJMGlKbkM5eUJjenVGeTJ2eU9jVEtEVUZnaldWbUU5VU9JNWpFYzhlRDFXNTFVR1ZXOC9zbmI0Z3QvNTlKVXl6N3JkcjhmMGprdzNqOFZNZGdsbDlQUU94cDRxcmNERWxDdDlpWXgrdjVUV3A3b2RPOFE1U0I3RVZvcTNKVGx1cWEzQXJaNFdod29sVnBaVkVPWnVCMU1mc1NEYnpXaHFNdjFHZmdmNzQ3TDdmRHJ3ZTVrRmdOQjlpb0VHWnBveDFKaGpHTnl3SzlzN3prejdUUTlrU0lCWjJhQm0xdkdENFRyYjFYL0k3Z1VDalluOXZoNlBiaEtvRW1NeWk4bk00SUFaMVZza2hyQTkvNGtHb00zRmJKWTNNM2R4djZqREhZT1JaMmRXU3MvM0FObWx5NStXanEvZ3RTVFBZdlAzdzM1cTRmU0VDY3lhZzluMmFPUGcxWUJZdVdFRURrbFFxSGsvOEowMldtSjJEVmIxZis3NkV4VkkzZWk1R1I4NjNVT0NQWkFnSHgwaE41NDZJQjl6M2w3dkVVeGg2UWFBZGs2NHA3azE5SkE5WkNmUUJ2THZ0TnlwQ0hqZzZHRGV2cW02VHJOaHU4MWVyalpVZHo3T2tvYnFOYkowY0MrRjBjbCtieGUzTyt4cnhCMklYako5KzJRamdUNTlIVkR1TnRPQkRKTGxyL3ExaWNIZTFkSG1tYnFBNmFKUWtUdXprTUFoS0MrV0hJOWRYdDZ4a3d6N0k5a05vS1B0OFJSbVB4eHk3NDlCUkIzRTB2RU50bWRyVzlSNzAzYjMxakRyRW5tcVREaFhrTHdHaWh1KzBnclNVcnNITzI4MHFicG91L3l2OHc3eDBMaEtvOVBYREMzYnhLSmZZMjBuUDQvNUdRVGZaSkM1bGlvV3BQeCttbGY2MU9vZWN4RWpmYk9GeDVjU3krdUhKZDMxYTFJUjdEby9YWDB5TVdIaTlnMzlqTExWOFQ4emU4MnRvQVRJUmE3SUNFR3JLT1E0QXJsNFBVNHZSei8yN20vNmhpQlNQanlLRVE1Q29kNGxpcmUxV25mM0VMbGx0ZGpmQ2tBVUZGTXkweWRLd0liWlJMVGRCRWFLK1JkN29NdkdlVzF3VTFsaWRJK2F4cm9mbVJNRFZmNGc5c3dvM1FXSXlsb0tLcE1xcGNDZW4zdGZPYVp2T1JwRk5neEtaanI5djJ0Ty9lVVBRb21kWVNubHhDUFBFZkZSbG40TmFUaThKUG9MVmlxVC8wa1l5MHlCOFhTRFhlTmZBZFZMY1pHZnlWV3cyeWdrK2g0Z1NqdlNaQUpESGc3VmRvZmgxMElDUEpLWFRLdkYwZWtLZk1XSVRMb0MvZGkzTDhuZy9RdU0vbHJjUE9sdHFuVDkrUFd0TVBjRG9GL1dtRlhpNnk0YjlheU01ZGdwaEtXSU5MdGxxakpiclFJeW8rMkpvTE1SWTV3QjRicHNVNmhEUy9JK255R1JZTjROMTVZSkxmcUwzNyttQUI4Y1IyQmRjLzZndzV3NW8wcGI0aWRMeUhRQmZpeHRrS0wwcFNacm04b1NCZkVuRVl6dGtyVVQzckF3WTN3OEtxbFdVMTA4SE5NZC9hUjlRQjdQZTM5YmdmeGpob25BREVPQkZFR3lEVnpaek9SbHgrbS9jRUNZY0hObSs2clRlVmhORHk0UXE5dVN3NitCMUdXVEFsR3dUcXlWVzFyN0JDbklUaWlqanR2YVg3ajhGMXVIdz09IiwiZGF0YWtleSI6IkFRRUJBSGgrZFMrQmxOdTBOeG5Yd293YklMczExNXlqZCtMTkFaaEJMWnN1bk94azNBQUFBSDR3ZkFZSktvWklodmNOQVFjR29HOHdiUUlCQURCb0Jna3Foa2lHOXcwQkJ3RXdIZ1lKWUlaSUFXVURCQUV1TUJFRURBRHZMVURnbHB0NGQzSVJRZ0lCRUlBN1M2SEM1S3czMUp5YWp5YksxR2k5Z2hNWkc2YkVrUGQ3ckc4V3U2RzJzWnRkNzBYdGlsWmtvcmFrQS82ZTVOaExHS2NXQWJ6Tzl5QjFqSkU9IiwidmVyc2lvbiI6IjIiLCJ0eXBlIjoiREFUQV9LRVkiLCJleHBpcmF0aW9uIjoxNjA0NDc3NTMwfQ== -e none https://433211781693.dkr.ecr.eu-west-1.amazonaws.com\r\n"
     ]
    }
   ],
   "source": [
    "!aws ecr get-login"
   ]
  },
  {
   "cell_type": "code",
   "execution_count": 14,
   "metadata": {},
   "outputs": [
    {
     "name": "stdout",
     "output_type": "stream",
     "text": [
      "WARNING! Your password will be stored unencrypted in /home/ec2-user/.docker/config.json.\r\n",
      "Configure a credential helper to remove this warning. See\r\n",
      "https://docs.docker.com/engine/reference/commandline/login/#credentials-store\r\n",
      "\r\n",
      "Login Succeeded\r\n"
     ]
    }
   ],
   "source": [
    "!aws ecr get-login-password | docker login --username AWS --password-stdin 433211781693.dkr.ecr.eu-west-1.amazonaws.com\n"
   ]
  },
  {
   "cell_type": "code",
   "execution_count": 8,
   "metadata": {
    "scrolled": true
   },
   "outputs": [
    {
     "name": "stdout",
     "output_type": "stream",
     "text": [
      "\r\n",
      "An error occurred (RepositoryAlreadyExistsException) when calling the CreateRepository operation: The repository with name 'sagemaker-unet-inference' already exists in the registry with id '433211781693'\r\n"
     ]
    }
   ],
   "source": [
    "!aws ecr create-repository --repository-name sagemaker-unet-inference\n",
    "\n"
   ]
  },
  {
   "cell_type": "code",
   "execution_count": 10,
   "metadata": {},
   "outputs": [
    {
     "name": "stdout",
     "output_type": "stream",
     "text": [
      "build_inference.ipynb  entrypoint.py\t   inference_handler.py\r\n",
      "Dockerfile\t       handler_service.py  model.py\r\n"
     ]
    }
   ],
   "source": [
    "!ls"
   ]
  },
  {
   "cell_type": "code",
   "execution_count": 11,
   "metadata": {},
   "outputs": [
    {
     "name": "stdout",
     "output_type": "stream",
     "text": [
      "Sending build context to Docker daemon   34.3kB\n",
      "Step 1/12 : FROM ubuntu:18.04\n",
      " ---> 56def654ec22\n",
      "Step 2/12 : LABEL com.amazonaws.sagemaker.capabilities.accept-bind-to-port=true\n",
      " ---> Using cache\n",
      " ---> 88151563659c\n",
      "Step 3/12 : RUN apt-get update &&     apt-get -y install --no-install-recommends     build-essential     ca-certificates     openjdk-8-jdk-headless     python3-dev     curl     vim     && rm -rf /var/lib/apt/lists/*     && curl -O https://bootstrap.pypa.io/get-pip.py     && python3 get-pip.py\n",
      " ---> Using cache\n",
      " ---> 3941242fbd0c\n",
      "Step 4/12 : RUN update-alternatives --install /usr/bin/python python /usr/bin/python3 1\n",
      " ---> Using cache\n",
      " ---> ff6260540a48\n",
      "Step 5/12 : RUN update-alternatives --install /usr/local/bin/pip pip /usr/local/bin/pip3 1\n",
      " ---> Using cache\n",
      " ---> 1d2dc9ffe7e0\n",
      "Step 6/12 : RUN pip3 --no-cache-dir install tensorflow                                 multi-model-server                                 sagemaker-inference                                 retrying                                keras\n",
      " ---> Running in c81b959145c6\n",
      "Collecting tensorflow\n",
      "  Downloading tensorflow-2.3.1-cp36-cp36m-manylinux2010_x86_64.whl (320.4 MB)\n",
      "Collecting multi-model-server\n",
      "  Downloading multi_model_server-1.1.2-py2.py3-none-any.whl (4.9 MB)\n",
      "Collecting sagemaker-inference\n",
      "  Downloading sagemaker_inference-1.5.3.tar.gz (18 kB)\n",
      "Collecting retrying\n",
      "  Downloading retrying-1.3.3.tar.gz (10 kB)\n",
      "Collecting keras\n",
      "  Downloading Keras-2.4.3-py2.py3-none-any.whl (36 kB)\n",
      "Collecting six>=1.12.0\n",
      "  Downloading six-1.15.0-py2.py3-none-any.whl (10 kB)\n",
      "Collecting opt-einsum>=2.3.2\n",
      "  Downloading opt_einsum-3.3.0-py3-none-any.whl (65 kB)\n",
      "Collecting absl-py>=0.7.0\n",
      "  Downloading absl_py-0.11.0-py3-none-any.whl (127 kB)\n",
      "Collecting astunparse==1.6.3\n",
      "  Downloading astunparse-1.6.3-py2.py3-none-any.whl (12 kB)\n",
      "Collecting numpy<1.19.0,>=1.16.0\n",
      "  Downloading numpy-1.18.5-cp36-cp36m-manylinux1_x86_64.whl (20.1 MB)\n",
      "Collecting protobuf>=3.9.2\n",
      "  Downloading protobuf-3.13.0-cp36-cp36m-manylinux1_x86_64.whl (1.3 MB)\n",
      "Collecting tensorflow-estimator<2.4.0,>=2.3.0\n",
      "  Downloading tensorflow_estimator-2.3.0-py2.py3-none-any.whl (459 kB)\n",
      "Collecting keras-preprocessing<1.2,>=1.1.1\n",
      "  Downloading Keras_Preprocessing-1.1.2-py2.py3-none-any.whl (42 kB)\n",
      "Collecting termcolor>=1.1.0\n",
      "  Downloading termcolor-1.1.0.tar.gz (3.9 kB)\n",
      "Collecting wrapt>=1.11.1\n",
      "  Downloading wrapt-1.12.1.tar.gz (27 kB)\n",
      "Collecting google-pasta>=0.1.8\n",
      "  Downloading google_pasta-0.2.0-py3-none-any.whl (57 kB)\n",
      "Collecting tensorboard<3,>=2.3.0\n",
      "  Downloading tensorboard-2.3.0-py3-none-any.whl (6.8 MB)\n",
      "Requirement already satisfied: wheel>=0.26 in /usr/local/lib/python3.6/dist-packages (from tensorflow) (0.35.1)\n",
      "Collecting grpcio>=1.8.6\n",
      "  Downloading grpcio-1.33.2-cp36-cp36m-manylinux2014_x86_64.whl (3.8 MB)\n",
      "Collecting h5py<2.11.0,>=2.10.0\n",
      "  Downloading h5py-2.10.0-cp36-cp36m-manylinux1_x86_64.whl (2.9 MB)\n",
      "Collecting gast==0.3.3\n",
      "  Downloading gast-0.3.3-py2.py3-none-any.whl (9.7 kB)\n",
      "Collecting Pillow\n",
      "  Downloading Pillow-8.0.1-cp36-cp36m-manylinux1_x86_64.whl (2.2 MB)\n",
      "Collecting model-archiver\n",
      "  Downloading model_archiver-1.0.3-py2.py3-none-any.whl (20 kB)\n",
      "Collecting psutil\n",
      "  Downloading psutil-5.7.3.tar.gz (465 kB)\n",
      "Collecting future\n",
      "  Downloading future-0.18.2.tar.gz (829 kB)\n",
      "Collecting scipy\n",
      "  Downloading scipy-1.5.3-cp36-cp36m-manylinux1_x86_64.whl (25.9 MB)\n",
      "Collecting pyyaml\n",
      "  Downloading PyYAML-5.3.1.tar.gz (269 kB)\n",
      "Requirement already satisfied: setuptools in /usr/local/lib/python3.6/dist-packages (from protobuf>=3.9.2->tensorflow) (50.3.2)\n",
      "Collecting google-auth<2,>=1.6.3\n",
      "  Downloading google_auth-1.23.0-py2.py3-none-any.whl (114 kB)\n",
      "Collecting google-auth-oauthlib<0.5,>=0.4.1\n",
      "  Downloading google_auth_oauthlib-0.4.2-py2.py3-none-any.whl (18 kB)\n",
      "Collecting requests<3,>=2.21.0\n",
      "  Downloading requests-2.24.0-py2.py3-none-any.whl (61 kB)\n",
      "Collecting markdown>=2.6.8\n",
      "  Downloading Markdown-3.3.3-py3-none-any.whl (96 kB)\n",
      "Collecting werkzeug>=0.11.15\n",
      "  Downloading Werkzeug-1.0.1-py2.py3-none-any.whl (298 kB)\n",
      "Collecting tensorboard-plugin-wit>=1.6.0\n",
      "  Downloading tensorboard_plugin_wit-1.7.0-py3-none-any.whl (779 kB)\n",
      "Collecting enum-compat\n",
      "  Downloading enum_compat-0.0.3-py3-none-any.whl (1.3 kB)\n",
      "Collecting pyasn1-modules>=0.2.1\n",
      "  Downloading pyasn1_modules-0.2.8-py2.py3-none-any.whl (155 kB)\n",
      "Collecting cachetools<5.0,>=2.0.0\n",
      "  Downloading cachetools-4.1.1-py3-none-any.whl (10 kB)\n",
      "Collecting rsa<5,>=3.1.4; python_version >= \"3.5\"\n",
      "  Downloading rsa-4.6-py3-none-any.whl (47 kB)\n",
      "Collecting requests-oauthlib>=0.7.0\n",
      "  Downloading requests_oauthlib-1.3.0-py2.py3-none-any.whl (23 kB)\n",
      "Collecting idna<3,>=2.5\n",
      "  Downloading idna-2.10-py2.py3-none-any.whl (58 kB)\n",
      "Collecting chardet<4,>=3.0.2\n",
      "  Downloading chardet-3.0.4-py2.py3-none-any.whl (133 kB)\n",
      "Collecting certifi>=2017.4.17\n",
      "  Downloading certifi-2020.6.20-py2.py3-none-any.whl (156 kB)\n",
      "Collecting urllib3!=1.25.0,!=1.25.1,<1.26,>=1.21.1\n",
      "  Downloading urllib3-1.25.11-py2.py3-none-any.whl (127 kB)\n",
      "Collecting importlib-metadata; python_version < \"3.8\"\n",
      "  Downloading importlib_metadata-2.0.0-py2.py3-none-any.whl (31 kB)\n",
      "Collecting pyasn1<0.5.0,>=0.4.6\n",
      "  Downloading pyasn1-0.4.8-py2.py3-none-any.whl (77 kB)\n",
      "Collecting oauthlib>=3.0.0\n",
      "  Downloading oauthlib-3.1.0-py2.py3-none-any.whl (147 kB)\n",
      "Collecting zipp>=0.5\n",
      "  Downloading zipp-3.4.0-py3-none-any.whl (5.2 kB)\n",
      "Building wheels for collected packages: sagemaker-inference, retrying, termcolor, wrapt, psutil, future, pyyaml\n",
      "  Building wheel for sagemaker-inference (setup.py): started\n",
      "  Building wheel for sagemaker-inference (setup.py): finished with status 'done'\n",
      "  Created wheel for sagemaker-inference: filename=sagemaker_inference-1.5.3-py2.py3-none-any.whl size=26852 sha256=85c4f2f4f3f7f6f7aaf8ae9ec17a46d33aa2ffa69d13431d38c4e430f44edd42\n",
      "  Stored in directory: /tmp/pip-ephem-wheel-cache-lsgjk9v1/wheels/61/7d/74/3a1a6f805bba7361c3349f085c38d61f0834c3291c38a795df\n",
      "  Building wheel for retrying (setup.py): started\n",
      "  Building wheel for retrying (setup.py): finished with status 'done'\n",
      "  Created wheel for retrying: filename=retrying-1.3.3-py3-none-any.whl size=11429 sha256=4c70829b81f4afcc4fedae82a38615738c6f9ed09bb62606c130227a7c7ce67b\n",
      "  Stored in directory: /tmp/pip-ephem-wheel-cache-lsgjk9v1/wheels/ac/cb/8a/b27bf6323e2f4c462dcbf77d70b7c5e7868a7fbe12871770cf\n",
      "  Building wheel for termcolor (setup.py): started\n",
      "  Building wheel for termcolor (setup.py): finished with status 'done'\n",
      "  Created wheel for termcolor: filename=termcolor-1.1.0-py3-none-any.whl size=4830 sha256=7805b9b5d5521e0aec391a15d405d34708ba28fd32b51792f9c425790d6af646\n",
      "  Stored in directory: /tmp/pip-ephem-wheel-cache-lsgjk9v1/wheels/93/2a/eb/e58dbcbc963549ee4f065ff80a59f274cc7210b6eab962acdc\n",
      "  Building wheel for wrapt (setup.py): started\n",
      "  Building wheel for wrapt (setup.py): finished with status 'done'\n",
      "  Created wheel for wrapt: filename=wrapt-1.12.1-cp36-cp36m-linux_x86_64.whl size=67492 sha256=31ed85cbc1bfe2edfabb155e2295362b8e9e150e0cd9e88ad656beb07aaba30b\n",
      "  Stored in directory: /tmp/pip-ephem-wheel-cache-lsgjk9v1/wheels/32/42/7f/23cae9ff6ef66798d00dc5d659088e57dbba01566f6c60db63\n",
      "  Building wheel for psutil (setup.py): started\n",
      "  Building wheel for psutil (setup.py): finished with status 'done'\n",
      "  Created wheel for psutil: filename=psutil-5.7.3-cp36-cp36m-linux_x86_64.whl size=281528 sha256=7c263b1de749ad2bdd2730ffb5bbef149fe2612de0a372f0b7f850e485773feb\n",
      "  Stored in directory: /tmp/pip-ephem-wheel-cache-lsgjk9v1/wheels/fa/ad/67/90bbaacdcfe970960dd5158397f23a6579b51d853720d7856d\n",
      "  Building wheel for future (setup.py): started\n",
      "  Building wheel for future (setup.py): finished with status 'done'\n",
      "  Created wheel for future: filename=future-0.18.2-py3-none-any.whl size=491059 sha256=d12d6dfb28f493342877739b1c3eea6bbedd9e5f895bcdc71b69023df228767e\n",
      "  Stored in directory: /tmp/pip-ephem-wheel-cache-lsgjk9v1/wheels/6e/9c/ed/4499c9865ac1002697793e0ae05ba6be33553d098f3347fb94\n",
      "  Building wheel for pyyaml (setup.py): started\n",
      "  Building wheel for pyyaml (setup.py): finished with status 'done'\n",
      "  Created wheel for pyyaml: filename=PyYAML-5.3.1-cp36-cp36m-linux_x86_64.whl size=44619 sha256=cdb6877f903aeca7eb052ecffca23ee7a35129d32afd1e71b4ee7641c495bda8\n",
      "  Stored in directory: /tmp/pip-ephem-wheel-cache-lsgjk9v1/wheels/e5/9d/ad/2ee53cf262cba1ffd8afe1487eef788ea3f260b7e6232a80fc\n",
      "Successfully built sagemaker-inference retrying termcolor wrapt psutil future pyyaml\n"
     ]
    },
    {
     "name": "stdout",
     "output_type": "stream",
     "text": [
      "Installing collected packages: six, numpy, opt-einsum, absl-py, astunparse, protobuf, tensorflow-estimator, keras-preprocessing, termcolor, wrapt, google-pasta, pyasn1, pyasn1-modules, cachetools, rsa, google-auth, idna, chardet, certifi, urllib3, requests, oauthlib, requests-oauthlib, google-auth-oauthlib, grpcio, zipp, importlib-metadata, markdown, werkzeug, tensorboard-plugin-wit, tensorboard, h5py, gast, tensorflow, Pillow, enum-compat, future, model-archiver, psutil, multi-model-server, retrying, scipy, sagemaker-inference, pyyaml, keras\n",
      "Successfully installed Pillow-8.0.1 absl-py-0.11.0 astunparse-1.6.3 cachetools-4.1.1 certifi-2020.6.20 chardet-3.0.4 enum-compat-0.0.3 future-0.18.2 gast-0.3.3 google-auth-1.23.0 google-auth-oauthlib-0.4.2 google-pasta-0.2.0 grpcio-1.33.2 h5py-2.10.0 idna-2.10 importlib-metadata-2.0.0 keras-2.4.3 keras-preprocessing-1.1.2 markdown-3.3.3 model-archiver-1.0.3 multi-model-server-1.1.2 numpy-1.18.5 oauthlib-3.1.0 opt-einsum-3.3.0 protobuf-3.13.0 psutil-5.7.3 pyasn1-0.4.8 pyasn1-modules-0.2.8 pyyaml-5.3.1 requests-2.24.0 requests-oauthlib-1.3.0 retrying-1.3.3 rsa-4.6 sagemaker-inference-1.5.3 scipy-1.5.3 six-1.15.0 tensorboard-2.3.0 tensorboard-plugin-wit-1.7.0 tensorflow-2.3.1 tensorflow-estimator-2.3.0 termcolor-1.1.0 urllib3-1.25.11 werkzeug-1.0.1 wrapt-1.12.1 zipp-3.4.0\n",
      "Removing intermediate container c81b959145c6\n",
      " ---> 253a7ae74a55\n",
      "Step 7/12 : COPY entrypoint.py /usr/local/bin/entrypoint.py\n",
      " ---> 64112c1c4212\n",
      "Step 8/12 : RUN chmod +x /usr/local/bin/entrypoint.py\n",
      " ---> Running in d87564219e78\n",
      "Removing intermediate container d87564219e78\n",
      " ---> fe7ef89da498\n",
      "Step 9/12 : RUN mkdir -p /home/model-server/\n",
      " ---> Running in 878050bb4bd6\n",
      "Removing intermediate container 878050bb4bd6\n",
      " ---> 344ad0215075\n",
      "Step 10/12 : COPY . /home/model-server/\n",
      " ---> ad27174c78c7\n",
      "Step 11/12 : ENTRYPOINT [\"python\", \"/usr/local/bin/entrypoint.py\"]\n",
      " ---> Running in cd17da72e7b1\n",
      "Removing intermediate container cd17da72e7b1\n",
      " ---> 03daed626a2e\n",
      "Step 12/12 : CMD [\"serve\"]\n",
      " ---> Running in 24c271256fd5\n",
      "Removing intermediate container 24c271256fd5\n",
      " ---> cfa5f6058dd6\n",
      "Successfully built cfa5f6058dd6\n",
      "Successfully tagged 433211781693.dkr.ecr.eu-west-1.amazonaws.com:latest\n"
     ]
    }
   ],
   "source": [
    "!docker build -t 433211781693.dkr.ecr.eu-west-1.amazonaws.com ."
   ]
  },
  {
   "cell_type": "code",
   "execution_count": 13,
   "metadata": {},
   "outputs": [
    {
     "name": "stdout",
     "output_type": "stream",
     "text": [
      "The push refers to repository [docker.io/library/433211781693.dkr.ecr.eu-west-1.amazonaws.com]\n",
      "\n",
      "\u001b[1Bbfebe7f7: Preparing \n",
      "\u001b[1Bd124694a: Preparing \n",
      "\u001b[1B4188b04b: Preparing \n",
      "\u001b[1B02909445: Preparing \n",
      "\u001b[1B858557da: Preparing \n",
      "\u001b[1Bb8cb001e: Preparing \n",
      "\u001b[1B2db88d4f: Preparing \n",
      "\u001b[1Bf8840364: Preparing \n",
      "\u001b[1B4df0ad6c: Preparing \n",
      "\u001b[1Bdf553184: Preparing \n",
      "\u001b[1B02706667: Waiting g denied: requested access to the resource is denied\n"
     ]
    }
   ],
   "source": [
    "!docker push 433211781693.dkr.ecr.eu-west-1.amazonaws.com"
   ]
  },
  {
   "cell_type": "code",
   "execution_count": null,
   "metadata": {},
   "outputs": [
    {
     "name": "stdout",
     "output_type": "stream",
     "text": [
      "AWS Access Key ID [None]: "
     ]
    }
   ],
   "source": [
    "!aws configure"
   ]
  },
  {
   "cell_type": "code",
   "execution_count": null,
   "metadata": {},
   "outputs": [],
   "source": []
  }
 ],
 "metadata": {
  "kernelspec": {
   "display_name": "conda_tensorflow2_p36",
   "language": "python",
   "name": "conda_tensorflow2_p36"
  },
  "language_info": {
   "codemirror_mode": {
    "name": "ipython",
    "version": 3
   },
   "file_extension": ".py",
   "mimetype": "text/x-python",
   "name": "python",
   "nbconvert_exporter": "python",
   "pygments_lexer": "ipython3",
   "version": "3.6.10"
  }
 },
 "nbformat": 4,
 "nbformat_minor": 4
}
