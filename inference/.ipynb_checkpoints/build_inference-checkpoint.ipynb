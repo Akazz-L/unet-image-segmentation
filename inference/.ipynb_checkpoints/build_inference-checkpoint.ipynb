{
 "cells": [
  {
   "cell_type": "code",
   "execution_count": 6,
   "metadata": {},
   "outputs": [
    {
     "name": "stdout",
     "output_type": "stream",
     "text": [
      "docker login -u AWS -p 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 -e none https://433211781693.dkr.ecr.eu-west-1.amazonaws.com\r\n"
     ]
    }
   ],
   "source": [
    "!aws ecr get-login"
   ]
  },
  {
   "cell_type": "code",
   "execution_count": 7,
   "metadata": {},
   "outputs": [
    {
     "name": "stdout",
     "output_type": "stream",
     "text": [
      "WARNING! Your password will be stored unencrypted in /home/ec2-user/.docker/config.json.\r\n",
      "Configure a credential helper to remove this warning. See\r\n",
      "https://docs.docker.com/engine/reference/commandline/login/#credentials-store\r\n",
      "\r\n",
      "Login Succeeded\r\n"
     ]
    }
   ],
   "source": [
    "!aws ecr get-login-password | docker login --username AWS --password-stdin 433211781693.dkr.ecr.eu-west-1.amazonaws.com\n"
   ]
  },
  {
   "cell_type": "code",
   "execution_count": 8,
   "metadata": {
    "scrolled": true
   },
   "outputs": [
    {
     "name": "stdout",
     "output_type": "stream",
     "text": [
      "\r\n",
      "An error occurred (RepositoryAlreadyExistsException) when calling the CreateRepository operation: The repository with name 'sagemaker-unet-inference' already exists in the registry with id '433211781693'\r\n"
     ]
    }
   ],
   "source": [
    "!aws ecr create-repository --repository-name sagemaker-unet-inference\n",
    "\n"
   ]
  },
  {
   "cell_type": "code",
   "execution_count": null,
   "metadata": {},
   "outputs": [],
   "source": []
  },
  {
   "cell_type": "code",
   "execution_count": 9,
   "metadata": {},
   "outputs": [
    {
     "name": "stdout",
     "output_type": "stream",
     "text": [
      "\"docker build\" requires exactly 1 argument.\r\n",
      "See 'docker build --help'.\r\n",
      "\r\n",
      "Usage:  docker build [OPTIONS] PATH | URL | -\r\n",
      "\r\n",
      "Build an image from a Dockerfile\r\n"
     ]
    }
   ],
   "source": [
    "!docker build -t 433211781693.dkr.ecr.eu-west-1.amazonaws.com ."
   ]
  },
  {
   "cell_type": "code",
   "execution_count": null,
   "metadata": {},
   "outputs": [],
   "source": []
  }
 ],
 "metadata": {
  "kernelspec": {
   "display_name": "conda_tensorflow2_p36",
   "language": "python",
   "name": "conda_tensorflow2_p36"
  },
  "language_info": {
   "codemirror_mode": {
    "name": "ipython",
    "version": 3
   },
   "file_extension": ".py",
   "mimetype": "text/x-python",
   "name": "python",
   "nbconvert_exporter": "python",
   "pygments_lexer": "ipython3",
   "version": "3.6.10"
  }
 },
 "nbformat": 4,
 "nbformat_minor": 4
}
